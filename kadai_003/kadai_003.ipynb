{
  "nbformat": 4,
  "nbformat_minor": 0,
  "metadata": {
    "colab": {
      "provenance": []
    },
    "kernelspec": {
      "name": "python3",
      "display_name": "Python 3"
    },
    "language_info": {
      "name": "python"
    }
  },
  "cells": [
    {
      "cell_type": "code",
      "execution_count": 2,
      "metadata": {
        "colab": {
          "base_uri": "https://localhost:8080/"
        },
        "id": "wy1TzU-Rpoap",
        "outputId": "ad8bc47d-ec31-4ebb-cced-3a97076fc281"
      },
      "outputs": [
        {
          "output_type": "stream",
          "name": "stdout",
          "text": [
            "行列の積:\n",
            "[[19 22]\n",
            " [43 50]]\n",
            "最大値: 50\n"
          ]
        }
      ],
      "source": [
        "# NumPyをインポート\n",
        "import numpy as np\n",
        "\n",
        "# 行列AとBを定義\n",
        "A = np.array([[1, 2], [3, 4]])\n",
        "B = np.array([[5, 6], [7, 8]])\n",
        "\n",
        "# 行列の積を計算\n",
        "C = np.dot(A, B)\n",
        "\n",
        "# 計算結果を表示\n",
        "print(\"行列の積:\")\n",
        "print(C)\n",
        "\n",
        "# 行列Cの最大値を求める\n",
        "max_value = np.max(C)\n",
        "print(\"最大値:\", max_value)\n"
      ]
    }
  ]
}