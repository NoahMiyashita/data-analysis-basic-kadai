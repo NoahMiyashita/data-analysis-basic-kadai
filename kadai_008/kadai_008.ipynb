{
  "nbformat": 4,
  "nbformat_minor": 0,
  "metadata": {
    "colab": {
      "provenance": []
    },
    "kernelspec": {
      "name": "python3",
      "display_name": "Python 3"
    },
    "language_info": {
      "name": "python"
    }
  },
  "cells": [
    {
      "cell_type": "code",
      "execution_count": 1,
      "metadata": {
        "id": "Yhee3mtr2TlA"
      },
      "outputs": [],
      "source": [
        "# 必要なライブラリのインポート\n",
        "from sklearn.datasets import load_iris\n",
        "from sklearn.model_selection import train_test_split\n",
        "\n",
        "# データの取得\n",
        "iris = load_iris()\n",
        "X = iris.data\n",
        "y = iris.target\n",
        "\n",
        "# データの分割（学習用とテスト用）\n",
        "X_train, X_test, y_train, y_test = train_test_split(X, y, test_size=0.3, random_state=3)\n"
      ]
    },
    {
      "cell_type": "code",
      "source": [
        "# 決定木ではなく、ランダムフォレストを使う\n",
        "from sklearn.ensemble import RandomForestClassifier\n",
        "model = RandomForestClassifier(random_state=3)\n"
      ],
      "metadata": {
        "id": "FFQO-uMT2fgw"
      },
      "execution_count": 2,
      "outputs": []
    },
    {
      "cell_type": "code",
      "source": [
        "# 学習\n",
        "model.fit(X_train, y_train)\n",
        "\n",
        "# 予測\n",
        "y_pred = model.predict(X_test)\n",
        "\n",
        "# 評価\n",
        "from sklearn.metrics import accuracy_score\n",
        "accuracy = accuracy_score(y_test, y_pred)\n",
        "print(f\"正解率: {accuracy:.2f}\")\n"
      ],
      "metadata": {
        "colab": {
          "base_uri": "https://localhost:8080/"
        },
        "id": "ErMIYHFF2kT4",
        "outputId": "5c64255f-edff-4b15-8788-ae4ed80481ca"
      },
      "execution_count": 3,
      "outputs": [
        {
          "output_type": "stream",
          "name": "stdout",
          "text": [
            "正解率: 0.98\n"
          ]
        }
      ]
    }
  ]
}